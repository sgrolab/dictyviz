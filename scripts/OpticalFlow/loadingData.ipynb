{
 "cells": [
  {
   "cell_type": "code",
   "execution_count": null,
   "id": "aacede67",
   "metadata": {},
   "outputs": [],
   "source": [
    "import numpy as np\n",
    "\n",
    "data = np.load('/Volumes/sgrolab/jennifer/cryolite/cryolite_mixin_test53_2025-02-22/old_optical_flow_3Dresults/optical_flow_confidence_20250707_150609.npy')"
   ]
  },
  {
   "cell_type": "code",
   "execution_count": 3,
   "id": "0bfc1b88",
   "metadata": {},
   "outputs": [
    {
     "data": {
      "text/plain": [
       "(217, 1906, 1440)"
      ]
     },
     "execution_count": 3,
     "metadata": {},
     "output_type": "execute_result"
    }
   ],
   "source": [
    "data.shape"
   ]
  },
  {
   "cell_type": "code",
   "execution_count": 4,
   "id": "0b7600ea",
   "metadata": {},
   "outputs": [],
   "source": [
    "data = np.load('/Volumes/sgrolab/jennifer/cryolite/cryolite_mixin_test53_2025-02-22/optical_flow_results/optical_flow_vx_20250707_150609.npy')"
   ]
  },
  {
   "cell_type": "code",
   "execution_count": 5,
   "id": "85f91e96",
   "metadata": {},
   "outputs": [
    {
     "data": {
      "text/plain": [
       "array([[-0.05049644, -0.04960804, -0.04769761, ...,  0.04632924,\n",
       "         0.03838224,  0.03170176],\n",
       "       [-0.04167922, -0.04214462, -0.04155021, ...,  0.0325715 ,\n",
       "         0.02646702,  0.02147583],\n",
       "       [-0.03480755, -0.03608761, -0.03625581, ...,  0.02189842,\n",
       "         0.01707493,  0.0134702 ],\n",
       "       ...,\n",
       "       [-0.52125305, -0.4842498 , -0.41405213, ...,  0.16410527,\n",
       "         0.12977123,  0.09837314],\n",
       "       [-0.5614946 , -0.507297  , -0.41469464, ...,  0.1678442 ,\n",
       "         0.1315793 ,  0.09874211],\n",
       "       [-0.6092462 , -0.52717185, -0.39633206, ...,  0.16688511,\n",
       "         0.12998599,  0.09693472]], dtype=float32)"
      ]
     },
     "execution_count": 5,
     "metadata": {},
     "output_type": "execute_result"
    }
   ],
   "source": [
    "data[0]"
   ]
  },
  {
   "cell_type": "markdown",
   "id": "d216a071",
   "metadata": {},
   "source": []
  },
  {
   "cell_type": "code",
   "execution_count": null,
   "id": "660fc081",
   "metadata": {},
   "outputs": [],
   "source": []
  }
 ],
 "metadata": {
  "kernelspec": {
   "display_name": "Python 3",
   "language": "python",
   "name": "python3"
  },
  "language_info": {
   "codemirror_mode": {
    "name": "ipython",
    "version": 3
   },
   "file_extension": ".py",
   "mimetype": "text/x-python",
   "name": "python",
   "nbconvert_exporter": "python",
   "pygments_lexer": "ipython3",
   "version": "3.10.6"
  }
 },
 "nbformat": 4,
 "nbformat_minor": 5
}
