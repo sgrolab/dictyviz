{
 "cells": [
  {
   "cell_type": "code",
   "execution_count": null,
   "id": "aacede67",
   "metadata": {},
   "outputs": [],
   "source": [
    "import numpy as np\n",
    "\n",
    "data = np.load('/Volumes/sgrolab/jennifer/cryolite/cryolite_mixin_test53_2025-02-22/old_optical_flow_3Dresults/optical_flow_confidence_20250707_150609.npy')"
   ]
  },
  {
   "cell_type": "code",
   "execution_count": 3,
   "id": "0bfc1b88",
   "metadata": {},
   "outputs": [
    {
     "data": {
      "text/plain": [
       "(217, 1906, 1440)"
      ]
     },
     "execution_count": 3,
     "metadata": {},
     "output_type": "execute_result"
    }
   ],
   "source": [
    "data.shape"
   ]
  },
  {
   "cell_type": "code",
   "execution_count": 4,
   "id": "0b7600ea",
   "metadata": {},
   "outputs": [],
   "source": [
    "data = np.load('/Volumes/sgrolab/jennifer/cryolite/cryolite_mixin_test53_2025-02-22/optical_flow_results/optical_flow_vx_20250707_150609.npy')"
   ]
  },
  {
   "cell_type": "code",
   "execution_count": 5,
   "id": "85f91e96",
   "metadata": {},
   "outputs": [
    {
     "data": {
      "text/plain": [
       "array([[-0.05049644, -0.04960804, -0.04769761, ...,  0.04632924,\n",
       "         0.03838224,  0.03170176],\n",
       "       [-0.04167922, -0.04214462, -0.04155021, ...,  0.0325715 ,\n",
       "         0.02646702,  0.02147583],\n",
       "       [-0.03480755, -0.03608761, -0.03625581, ...,  0.02189842,\n",
       "         0.01707493,  0.0134702 ],\n",
       "       ...,\n",
       "       [-0.52125305, -0.4842498 , -0.41405213, ...,  0.16410527,\n",
       "         0.12977123,  0.09837314],\n",
       "       [-0.5614946 , -0.507297  , -0.41469464, ...,  0.1678442 ,\n",
       "         0.1315793 ,  0.09874211],\n",
       "       [-0.6092462 , -0.52717185, -0.39633206, ...,  0.16688511,\n",
       "         0.12998599,  0.09693472]], dtype=float32)"
      ]
     },
     "execution_count": 5,
     "metadata": {},
     "output_type": "execute_result"
    }
   ],
   "source": [
    "data[0]"
   ]
  },
  {
   "cell_type": "markdown",
   "id": "d216a071",
   "metadata": {},
   "source": []
  },
  {
   "cell_type": "code",
   "execution_count": 4,
   "id": "660fc081",
   "metadata": {},
   "outputs": [],
   "source": [
    "data = np.load('/Volumes/sgrolab/jennifer/cryolite/cryolite_mixin_test53_2025-02-22/optical_flow_3Dresults/20/optical_flow_vy.npy')"
   ]
  },
  {
   "cell_type": "code",
   "execution_count": 5,
   "id": "1b59b624",
   "metadata": {},
   "outputs": [
    {
     "data": {
      "text/plain": [
       "array([[-0.2562967 , -0.20238017, -0.13349214, ...,  0.52922887,\n",
       "         0.3299401 ,  0.12061074],\n",
       "       [-0.14537722, -0.09499575, -0.02614147, ...,  0.6357464 ,\n",
       "         0.43252042,  0.21901941],\n",
       "       [-0.05884673, -0.01309123,  0.05604485, ...,  0.75272363,\n",
       "         0.5560197 ,  0.34169152],\n",
       "       ...,\n",
       "       [-0.01936094, -0.01939694, -0.01914372, ..., -0.23761266,\n",
       "        -0.26240808, -0.2888977 ],\n",
       "       [-0.02047568, -0.02055337, -0.02036832, ..., -0.2454604 ,\n",
       "        -0.26714364, -0.28965384],\n",
       "       [-0.02148445, -0.02139955, -0.02110635, ..., -0.2337143 ,\n",
       "        -0.25130144, -0.26895276]], dtype=float32)"
      ]
     },
     "execution_count": 5,
     "metadata": {},
     "output_type": "execute_result"
    }
   ],
   "source": [
    "data[0]"
   ]
  },
  {
   "cell_type": "code",
   "execution_count": 1,
   "id": "4d1036ef",
   "metadata": {},
   "outputs": [],
   "source": [
    "import numpy as np \n",
    "\n",
    "data = np.load('/Volumes/sgrolab/jennifer/cryolite/cryolite_mixin_test53_2025-02-22/optical_flow_3Dresults/140/optical_flow_confidence.npy')\n"
   ]
  },
  {
   "cell_type": "code",
   "execution_count": 3,
   "id": "0ff4b25c",
   "metadata": {},
   "outputs": [
    {
     "data": {
      "text/plain": [
       "(217, 1906, 1440)"
      ]
     },
     "execution_count": 3,
     "metadata": {},
     "output_type": "execute_result"
    }
   ],
   "source": [
    "data.shape"
   ]
  },
  {
   "cell_type": "code",
   "execution_count": 4,
   "id": "e59db9ce",
   "metadata": {},
   "outputs": [
    {
     "data": {
      "text/plain": [
       "array([[ 0.0000000e+00,  0.0000000e+00,  7.2759576e-12, ...,\n",
       "         2.9103830e-11, -2.9103830e-11,  0.0000000e+00],\n",
       "       [ 0.0000000e+00,  2.9103830e-11,  0.0000000e+00, ...,\n",
       "         1.1641532e-10, -2.9103830e-11,  5.8207661e-11],\n",
       "       [ 2.9103830e-11,  0.0000000e+00,  2.9103830e-11, ...,\n",
       "        -2.9103830e-11, -2.9103830e-11,  1.4551915e-11],\n",
       "       ...,\n",
       "       [ 5.8207661e-11, -5.8207661e-11,  0.0000000e+00, ...,\n",
       "         1.4551915e-11, -2.9103830e-11, -2.9103830e-11],\n",
       "       [ 1.1641532e-10, -5.8207661e-11, -2.9103830e-11, ...,\n",
       "         0.0000000e+00, -2.9103830e-11,  0.0000000e+00],\n",
       "       [-5.8207661e-11, -5.8207661e-11,  0.0000000e+00, ...,\n",
       "         2.9103830e-11,  0.0000000e+00,  0.0000000e+00]], dtype=float32)"
      ]
     },
     "execution_count": 4,
     "metadata": {},
     "output_type": "execute_result"
    }
   ],
   "source": [
    "data[200]"
   ]
  },
  {
   "cell_type": "code",
   "execution_count": 3,
   "id": "c2dc43f2",
   "metadata": {},
   "outputs": [],
   "source": [
    "import numpy as np\n",
    "\n",
    "data = np.load('/Volumes/sgrolab/jennifer/cryolite/cryolite_mixin_test53_2025-02-22/optical_flow_3Dresults/134/magnitude_map.npy')"
   ]
  },
  {
   "cell_type": "code",
   "execution_count": 2,
   "id": "3ef3e8cf",
   "metadata": {},
   "outputs": [
    {
     "data": {
      "text/plain": [
       "<function shape at 0x1063c6cf0>"
      ]
     },
     "execution_count": 2,
     "metadata": {},
     "output_type": "execute_result"
    }
   ],
   "source": [
    "np.shape"
   ]
  },
  {
   "cell_type": "code",
   "execution_count": 4,
   "id": "b25ee4f1",
   "metadata": {},
   "outputs": [
    {
     "data": {
      "text/plain": [
       "array([0.98041642, 0.974159  , 0.96542704, ..., 0.28600013, 0.28542572,\n",
       "       0.28492218])"
      ]
     },
     "execution_count": 4,
     "metadata": {},
     "output_type": "execute_result"
    }
   ],
   "source": [
    "data[0]"
   ]
  },
  {
   "cell_type": "code",
   "execution_count": 5,
   "id": "d35f2b88",
   "metadata": {},
   "outputs": [
    {
     "data": {
      "text/plain": [
       "array([0.96050215, 0.95376223, 0.94460273, ..., 0.28682241, 0.28626153,\n",
       "       0.28578216])"
      ]
     },
     "execution_count": 5,
     "metadata": {},
     "output_type": "execute_result"
    }
   ],
   "source": [
    "data[1]"
   ]
  },
  {
   "cell_type": "code",
   "execution_count": 6,
   "id": "d49e6ae3",
   "metadata": {},
   "outputs": [
    {
     "data": {
      "text/plain": [
       "array([0.75844276, 0.75060433, 0.74080652, ..., 0.29463115, 0.29293731,\n",
       "       0.29152226])"
      ]
     },
     "execution_count": 6,
     "metadata": {},
     "output_type": "execute_result"
    }
   ],
   "source": [
    "data[10]"
   ]
  },
  {
   "cell_type": "code",
   "execution_count": 7,
   "id": "9a9ab9fd",
   "metadata": {},
   "outputs": [
    {
     "data": {
      "text/plain": [
       "array([0.87454081, 0.86680412, 0.85690558, ..., 0.28556454, 0.28496906,\n",
       "       0.28453428])"
      ]
     },
     "execution_count": 7,
     "metadata": {},
     "output_type": "execute_result"
    }
   ],
   "source": [
    "data[5]"
   ]
  },
  {
   "cell_type": "code",
   "execution_count": null,
   "id": "5bad09d6",
   "metadata": {},
   "outputs": [],
   "source": []
  }
 ],
 "metadata": {
  "kernelspec": {
   "display_name": "Python 3",
   "language": "python",
   "name": "python3"
  },
  "language_info": {
   "codemirror_mode": {
    "name": "ipython",
    "version": 3
   },
   "file_extension": ".py",
   "mimetype": "text/x-python",
   "name": "python",
   "nbconvert_exporter": "python",
   "pygments_lexer": "ipython3",
   "version": "3.10.6"
  }
 },
 "nbformat": 4,
 "nbformat_minor": 5
}
